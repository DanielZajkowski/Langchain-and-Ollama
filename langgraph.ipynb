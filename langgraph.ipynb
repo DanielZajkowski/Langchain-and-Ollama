{
 "cells": [
  {
   "cell_type": "code",
   "execution_count": 2,
   "metadata": {},
   "outputs": [
    {
     "data": {
      "text/plain": [
       "True"
      ]
     },
     "execution_count": 2,
     "metadata": {},
     "output_type": "execute_result"
    }
   ],
   "source": [
    "from dotenv import load_dotenv\n",
    "import os\n",
    "load_dotenv('./.env')"
   ]
  },
  {
   "cell_type": "code",
   "execution_count": 23,
   "metadata": {},
   "outputs": [],
   "source": [
    "from typing import Annotated, TypedDict \n",
    "from langgraph.graph import  StateGraph, START, END\n",
    "from langgraph.graph.message import add_messages \n",
    "from langchain_ollama import ChatOllama\n",
    "\n",
    "llm = ChatOllama(model=\"llama3.2:1b\", base_url = \"http://localhost:11434\")"
   ]
  },
  {
   "cell_type": "code",
   "execution_count": 6,
   "metadata": {},
   "outputs": [
    {
     "data": {
      "text/plain": [
       "AIMessage(content='How can I help you today?', additional_kwargs={}, response_metadata={'model': 'llama3.2:1b', 'created_at': '2025-01-26T09:55:51.300924Z', 'message': {'role': 'assistant', 'content': ''}, 'done_reason': 'stop', 'done': True, 'total_duration': 1296394958, 'load_duration': 580953208, 'prompt_eval_count': 26, 'prompt_eval_duration': 668000000, 'eval_count': 8, 'eval_duration': 46000000}, id='run-b9954073-2f9f-4fdd-8353-27800bf5cd82-0', usage_metadata={'input_tokens': 26, 'output_tokens': 8, 'total_tokens': 34})"
      ]
     },
     "execution_count": 6,
     "metadata": {},
     "output_type": "execute_result"
    }
   ],
   "source": [
    "llm.invoke(\"hi\")"
   ]
  },
  {
   "cell_type": "code",
   "execution_count": 24,
   "metadata": {},
   "outputs": [],
   "source": [
    "class State(TypedDict):\n",
    "    # {\"messages\": [\"your message\"]}\n",
    "    messages: Annotated[list, add_messages]\n",
    "\n",
    "\n",
    "def chatbot(state: State):\n",
    "    response = llm.invoke(state[\"messages\"])\n",
    "    return {\"messages\": [response]}\n",
    "\n",
    "\n",
    "graph_builder = StateGraph(State)\n",
    "graph_builder.add_node(\"chatbot\", chatbot)\n",
    "graph_builder.add_edge(START, \"chatbot\")\n",
    "graph_builder.add_edge(\"chatbot\", END)\n",
    "\n",
    "graph = graph_builder.compile()"
   ]
  },
  {
   "cell_type": "code",
   "execution_count": 25,
   "metadata": {},
   "outputs": [
    {
     "data": {
      "image/png": "[encoded data removed]",
      "text/plain": [
       "<IPython.core.display.Image object>"
      ]
     },
     "metadata": {},
     "output_type": "display_data"
    }
   ],
   "source": [
    "from IPython.display import display, Image\n",
    "display(Image(graph.get_graph().draw_mermaid_png()))"
   ]
  },
  {
   "cell_type": "code",
   "execution_count": 26,
   "metadata": {},
   "outputs": [
    {
     "data": {
      "text/plain": [
       "{'messages': [HumanMessage(content='Hi', additional_kwargs={}, response_metadata={}, id='3fc05fe3-b1d3-4448-b761-f64fbed33cef'),\n",
       "  HumanMessage(content='myself is laxmi kant', additional_kwargs={}, response_metadata={}, id='93b7ad0d-3c57-48e0-bd15-6e1971777696'),\n",
       "  AIMessage(content='Hello Laxmi Kant. What can I assist you with today?', additional_kwargs={}, response_metadata={'model': 'llama3.2:1b', 'created_at': '2025-01-26T10:17:11.114934Z', 'message': {'role': 'assistant', 'content': ''}, 'done_reason': 'stop', 'done': True, 'total_duration': 238085166, 'load_duration': 30675458, 'prompt_eval_count': 34, 'prompt_eval_duration': 113000000, 'eval_count': 15, 'eval_duration': 93000000}, id='run-d536696a-0a76-4181-8a43-984edd1ace24-0', usage_metadata={'input_tokens': 34, 'output_tokens': 15, 'total_tokens': 49})]}"
      ]
     },
     "execution_count": 26,
     "metadata": {},
     "output_type": "execute_result"
    }
   ],
   "source": [
    "graph.invoke({\"messages\": [\"Hi\", \"myself is laxmi kant\"]})"
   ]
  },
  {
   "cell_type": "code",
   "execution_count": 27,
   "metadata": {},
   "outputs": [
    {
     "data": {
      "text/plain": [
       "{'messages': [HumanMessage(content='Hello', additional_kwargs={}, response_metadata={}, id='9fdf73ae-d852-4e3b-89cc-a62fd1b8d11b'),\n",
       "  AIMessage(content='Hello. Is there something I can help you with or would you like to chat?', additional_kwargs={}, response_metadata={'model': 'llama3.2:1b', 'created_at': '2025-01-26T10:17:13.724864Z', 'message': {'role': 'assistant', 'content': ''}, 'done_reason': 'stop', 'done': True, 'total_duration': 221507125, 'load_duration': 34315708, 'prompt_eval_count': 26, 'prompt_eval_duration': 77000000, 'eval_count': 18, 'eval_duration': 109000000}, id='run-4353fbcb-be50-48fe-9ba1-398b6d7fc78b-0', usage_metadata={'input_tokens': 26, 'output_tokens': 18, 'total_tokens': 44})]}"
      ]
     },
     "execution_count": 27,
     "metadata": {},
     "output_type": "execute_result"
    }
   ],
   "source": [
    "graph.invoke({\"messages\": [\"Hello\"]})"
   ]
  },
  {
   "cell_type": "code",
   "execution_count": 30,
   "metadata": {},
   "outputs": [
    {
     "name": "stdout",
     "output_type": "stream",
     "text": [
      "Assistant: Hello. Is there something I can help you with or would you like to chat?\n",
      "Assistant: The sun is a massive ball of hot, glowing gas that is the center of our solar system. It's the primary source of light and energy for our planet, and it plays a crucial role in shaping the Earth's climate, weather, and ecosystems.\n",
      "\n",
      "Here are some key facts about the sun:\n",
      "\n",
      "1. Size: The sun is approximately 109 times bigger than the Earth in terms of diameter.\n",
      "2. Temperature: The surface temperature of the sun is about 5,500°C (10,000°F), while its core is a scorching 15,000,000°C (27,000,000°F).\n",
      "3. Energy output: The sun emits an enormous amount of energy in the form of electromagnetic radiation, including visible light, ultraviolet (UV) radiation, and X-rays.\n",
      "4. Light travels through space: The speed of light is approximately 299,792 kilometers per second (186,282 miles per second), which means that light takes about 8 minutes and 20 seconds to travel from the sun to the Earth.\n",
      "5. Sunspots: The sun's surface is characterized by dark spots called sunspots, which are cooler regions than the surrounding areas due to intense magnetic activity.\n",
      "6. Solar flares: The sun can produce powerful solar flares, which are massive releases of energy that can affect the Earth's magnetic field and potentially disrupt communication and navigation systems.\n",
      "7. Life-giving rays: The sun's energy is essential for life on Earth, providing the light and warmth needed to support photosynthesis, plant growth, and animal development.\n",
      "\n",
      "The sun is also a key component in the formation of our solar system. It is believed that the sun formed about 4.6 billion years ago from a giant cloud of gas and dust called a nebula. The remaining material condensed into larger and larger bodies, eventually giving rise to the planets, including Earth.\n",
      "Bye!\n"
     ]
    }
   ],
   "source": [
    "while True:\n",
    "    user_input = input(\"You: \")\n",
    "    if user_input in ['q', 'quit', 'exit']:\n",
    "        print(\"Bye!\")\n",
    "        break\n",
    "    response = graph.invoke({\"messages\": [user_input]})\n",
    "    print(\"Assistant:\", response[\"messages\"][-1].content)"
   ]
  }
 ],
 "metadata": {
  "kernelspec": {
   "display_name": "ml",
   "language": "python",
   "name": "python3"
  },
  "language_info": {
   "codemirror_mode": {
    "name": "ipython",
    "version": 3
   },
   "file_extension": ".py",
   "mimetype": "text/x-python",
   "name": "python",
   "nbconvert_exporter": "python",
   "pygments_lexer": "ipython3",
   "version": "3.12.4"
  }
 },
 "nbformat": 4,
 "nbformat_minor": 2
}
